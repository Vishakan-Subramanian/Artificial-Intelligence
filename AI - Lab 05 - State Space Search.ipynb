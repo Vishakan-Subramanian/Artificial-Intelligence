{
 "cells": [
  {
   "cell_type": "markdown",
   "metadata": {},
   "source": [
    "# Artificial Intelligence — Lab — Exercise 04"
   ]
  },
  {
   "cell_type": "markdown",
   "metadata": {},
   "source": [
    "#### 29 September 2020"
   ]
  },
  {
   "cell_type": "markdown",
   "metadata": {},
   "source": [
    "# Search Algorithm\n",
    "---\n",
    "\n",
    "Consider an autonomous mobile robot in a crowded environment that needs to find  an  efficient  path from  its  current  location S to  a  desired  location G.  As  an idealization of the situation, assume that the obstacles (whatever they may be) are  abstracted  by  polygons.  The  problem  now  reduces  to  finding  the shortest path between two points in a plane that has convex polygonal obstacles.\n",
    "\n",
    "    (a) How do we formulate the state-space? How many states are there? How many paths are there to the goal? Think carefully to define a good state-space. Justify your decisions.\n",
    "    \n",
    "    \n",
    "    (b) How do we define the actions in your formulation of the state-space?\n",
    "    \n",
    "        \n",
    "    (c)  Formulate  this  problem  in  Python  by  subclassing  the  Problem  class  in “search.py” of the  reference implementation.  Take  extra  care  to  implement ACTIONS to find successor states of a given state.\n",
    "        \n",
    "     \n",
    "    (d)  Define  your  evaluation  function  to  evaluate  the  goodness  or  badness  of  a state using an admissible heuristics function \n",
    "        \n",
    "        \n",
    "    (e) Create several instances (at least 100) of this problem by randomly generating planes with randomstart and goal points and random polygons as obstacles.\n",
    "    \n",
    "    \n",
    "    (f) Solve all the instancesusing the following search strategies:\n",
    "        _ Any basic strategy of your choice (DFS/BFS/IDS)\n",
    "        _ Best-first greedy search\n",
    "        _ A* search\n",
    "        \n",
    "        You may use the reference Python code to implement these search algorithms.\n",
    "        \n",
    "    \n",
    "    (g)  Perform  an  empirical  analysis  in  terms  of  number  of  nodes  generated, expanded,  actual  time  taken,completeness,  optimality,  etc.  Which  algorithm performs better, in general, on all the instances?\n",
    "  \n"
   ]
  },
  {
   "cell_type": "code",
   "execution_count": 1,
   "metadata": {},
   "outputs": [],
   "source": [
    "import matplotlib.pyplot as plt\n",
    "import random\n",
    "import math\n",
    "import time\n",
    "import heapq\n",
    "from collections import deque\n",
    "from shapely.geometry import LineString,Polygon\n",
    "import shapely.geometry as sg\n",
    "import shapely.ops as so\n",
    "\n",
    "plt.rcParams[\"figure.figsize\"] = (10, 8)"
   ]
  },
  {
   "cell_type": "markdown",
   "metadata": {},
   "source": [
    "<b>Problem</b> class was taken from [aima-python](https://github.com/aimacode/aima-python/blob/master/search.py)"
   ]
  },
  {
   "cell_type": "code",
   "execution_count": 2,
   "metadata": {},
   "outputs": [],
   "source": [
    "class Problem:\n",
    "    \"\"\"The abstract class for a formal problem. You should subclass\n",
    "    this and implement the methods actions and result, and possibly\n",
    "    __init__, goal_test, and path_cost. Then you will create instances\n",
    "    of your subclass and solve them with the various search functions.\"\"\"\n",
    "\n",
    "    def __init__(self, initial, goal=None):\n",
    "        \"\"\"The constructor specifies the initial state, and possibly a goal\n",
    "        state, if there is a unique goal. Your subclass's constructor can add\n",
    "        other arguments.\"\"\"\n",
    "        self.initial = initial\n",
    "        self.goal = goal\n",
    "\n",
    "    def actions(self, state):\n",
    "        \"\"\"Return the actions that can be executed in the given\n",
    "        state. The result would typically be a list, but if there are\n",
    "        many actions, consider yielding them one at a time in an\n",
    "        iterator, rather than building them all at once.\"\"\"\n",
    "        raise NotImplementedError\n",
    "\n",
    "    def result(self, state, action):\n",
    "        \"\"\"Return the state that results from executing the given\n",
    "        action in the given state. The action must be one of\n",
    "        self.actions(state).\"\"\"\n",
    "        raise NotImplementedError\n",
    "\n",
    "    def goal_test(self, state):\n",
    "        \"\"\"Return True if the state is a goal. The default method compares the\n",
    "        state to self.goal or checks for state in self.goal if it is a\n",
    "        list, as specified in the constructor. Override this method if\n",
    "        checking against a single self.goal is not enough.\"\"\"\n",
    "        if isinstance(self.goal, list):\n",
    "            return is_in(state, self.goal)\n",
    "        else:\n",
    "            return state == self.goal\n",
    "\n",
    "    def path_cost(self, c, state1, action, state2):\n",
    "        \"\"\"Return the cost of a solution path that arrives at state2 from\n",
    "        state1 via action, assuming cost c to get up to state1. If the problem\n",
    "        is such that the path doesn't matter, this function will only look at\n",
    "        state2. If the path does matter, it will consider c and maybe state1\n",
    "        and action. The default method costs 1 for every step in the path.\"\"\"\n",
    "        return c + 1\n",
    "\n",
    "    def value(self, state):\n",
    "        \"\"\"For optimization problems, each state has a value. Hill Climbing\n",
    "        and related algorithms try to maximize this value.\"\"\"\n",
    "        raise NotImplementedError"
   ]
  },
  {
   "cell_type": "code",
   "execution_count": 3,
   "metadata": {},
   "outputs": [],
   "source": [
    "class PolygonProblem(Problem):\n",
    "    initial = None\n",
    "    goal = None\n",
    "    polygons = None\n",
    "    point = None\n",
    "    vertices = None\n",
    "    adj_mat = None\n",
    "    \n",
    "    def __init__(self, initial, goal, polygons):\n",
    "        self.initial = initial\n",
    "        self.goal = goal\n",
    "        self.polygons = polygons\n",
    "        self.points = []\n",
    "        \n",
    "        self.points.append(self.initial)\n",
    "    \n",
    "        for polygon in self.polygons:\n",
    "            for point in polygon:\n",
    "                self.points.append(point)\n",
    "    \n",
    "        self.points.append(self.goal)\n",
    "        \n",
    "        self.vertices = len(self.points)\n",
    "        self.adj_mat = self.make_adjacency_matrix()\n",
    "        super().__init__(initial, goal)\n",
    "    \n",
    "    def is_edge(self, polygon, points):\n",
    "        \"\"\"Check if a given set of points form an edge in a polygon. \"\"\"\n",
    "        \n",
    "        n = len(polygon)\n",
    "        \n",
    "        for i in range(n):\n",
    "            if points[0] == polygon[i] and points[1] == polygon[(i+1)%n] \\\n",
    "            or points[1] == polygon[i] and points[0] == polygon[(i+1)%n]:\n",
    "                return True\n",
    "        return False\n",
    "    \n",
    "    def make_adjacency_matrix(self):\n",
    "        \"\"\"Convert the given graph into an adjacency matrix for state space representation. \"\"\"\n",
    "        \n",
    "        adj = [[math.inf for j in range(self.vertices)] for i in range(self.vertices)]\n",
    "        polys = [Polygon(poly) for poly in self.polygons]\n",
    "        \n",
    "        for i in range(self.vertices):\n",
    "            for j in range(self.vertices):\n",
    "                pt1 = self.points[i]\n",
    "                pt2 = self.points[j]\n",
    "                \n",
    "                is_intersecting = False\n",
    "                line = LineString([pt1, pt2])\n",
    "                \n",
    "                for k, polygon in enumerate(polys):\n",
    "                    intersecting_points = list(polygon.intersection(line).coords)\n",
    "                    \n",
    "                    if len(intersecting_points) > 1:\n",
    "                        if len(intersecting_points) == 2 \\\n",
    "                        and self.is_edge(self.polygons[k], intersecting_points):\n",
    "                            continue\n",
    "                        else:\n",
    "                            is_intersecting = True\n",
    "                            break\n",
    "                \n",
    "                if is_intersecting == False:\n",
    "                    adj[i][j] = self.euclidean_distance(pt1, pt2)\n",
    "        \n",
    "        return adj\n",
    "    \n",
    "    def euclidean_distance(self, pt1, pt2):\n",
    "        \"\"\"Find the Euclidean distance between 2 given points. \"\"\"\n",
    "        \n",
    "        return round(((pt1[0] - pt2[0]) ** 2 + (pt1[1] - pt2[1]) ** 2 ) ** 0.5, 2)\n",
    "    \n",
    "    def find_next_states(self, source):\n",
    "        \"\"\"Find the set of next states from a given state. \"\"\"\n",
    "        \n",
    "        return [dest for dest in range(self.vertices) \\\n",
    "                if self.adj_mat[source][dest] != math.inf and source != dest]\n",
    "    \n",
    "    def goal_test(self, state):\n",
    "        \"\"\"Check if current state is the goal state. \"\"\"\n",
    "        \n",
    "        return self.points[state] == self.goal\n",
    "    \n",
    "    def edge_cost(self, state1, state2):\n",
    "        \"\"\"Find the edge cost between 2 states. \"\"\"\n",
    "        \n",
    "        return self.adj_mat[state1][state2]\n",
    "    \n",
    "    def value(self, state):\n",
    "        \"\"\"Find the heuristic value of a state to the goal state. \"\"\"\n",
    "        \n",
    "        point = self.points[state]\n",
    "        return self.euclidean_distance(point, self.goal)\n",
    "    \n",
    "    def find_path(self, goal, ancestors):\n",
    "        \"\"\"Find the path traced to the goal state by a searching algorithm. \"\"\"\n",
    "        \n",
    "        start = goal\n",
    "        path = []\n",
    "        \n",
    "        while start:\n",
    "            path.append(start)\n",
    "            start = ancestors[start]\n",
    "        path.append(0)\n",
    "        \n",
    "        path = path[::-1]\n",
    "        return path\n",
    "    \n",
    "    def path_cost(self, path):\n",
    "        \"\"\"Find the total cost of traversing a given path. \"\"\"\n",
    "        \n",
    "        return sum([self.edge_cost(path[i], path[i+1]) for i in range(len(path) - 1)])\n",
    "    \n",
    "    def BFS(self):\n",
    "        \"\"\"Perform BFS algorithm on the state space. \"\"\"\n",
    "        \n",
    "        ancestors = dict()\n",
    "        discovered = deque()\n",
    "        explored = set()\n",
    "        \n",
    "        discovered.append(0)\n",
    "\n",
    "        while discovered:\n",
    "            state = discovered.popleft()\n",
    "            \n",
    "            for next_state in self.find_next_states(state):\n",
    "                if self.goal_test(next_state):\n",
    "                    ancestors[next_state] = state\n",
    "                    path = self.find_path(next_state, ancestors)\n",
    "                    return path, self.path_cost(path)\n",
    "            \n",
    "                elif next_state not in explored:\n",
    "                    explored.add(next_state)\n",
    "                    discovered.append(next_state)\n",
    "                    ancestors[next_state] = state\n",
    "        \n",
    "        return None, math.inf\n",
    "    \n",
    "    def GBFS(self):\n",
    "        \"\"\"Perform GBFS algorithm on the state space. \"\"\"\n",
    "        \n",
    "        ancestors = dict()\n",
    "        discovered = []\n",
    "        explored = set()\n",
    "        \n",
    "        discovered.append((self.value(0), 0))\n",
    "        \n",
    "        while discovered:\n",
    "            value, state = heapq.heappop(discovered)\n",
    "            \n",
    "            if state in explored:\n",
    "                continue\n",
    "                \n",
    "            explored.add(state)\n",
    "            \n",
    "            if self.goal_test(state):\n",
    "                path = self.find_path(state, ancestors)\n",
    "                return path, self.path_cost(path)\n",
    "            \n",
    "            for next_state in self.find_next_states(state):\n",
    "                if next_state not in explored:\n",
    "                    ancestors[next_state] = state\n",
    "                    heapq.heappush(discovered, (self.value(next_state), next_state))\n",
    "        \n",
    "        return None, math.inf"
   ]
  },
  {
   "cell_type": "code",
   "execution_count": 4,
   "metadata": {},
   "outputs": [],
   "source": [
    "polygons = [[(3, 4), (4, 4), (4, 5), (3, 5)],\n",
    "            [(5, 4), (6, 3), (5, 1)],\n",
    "            [(8, 2), (11, 2), (10, 4), (7, 5), (6, 4)],\n",
    "            [(6, 7), (8, 7), (8, 5)],\n",
    "            [(1, 7), (3, 8), (5, 7), (2, 5)],\n",
    "            [(1, 2), (4, 0), (4, 3), (2, 3)]]\n",
    "\n",
    "initial = (1, 1)\n",
    "goal = (11, 7)\n",
    "polys = [sg.Polygon(p) for p in polygons]\n",
    "\n",
    "problem = PolygonProblem(initial, goal, polygons)"
   ]
  },
  {
   "cell_type": "code",
   "execution_count": 5,
   "metadata": {},
   "outputs": [],
   "source": [
    "def plot_polygons(polys, title = \"Initial Graph\"):\n",
    "    \"\"\"Plot the polygons and the given start & goal node alone. \"\"\"\n",
    "    \n",
    "    new_shape = so.cascaded_union(polys)\n",
    "    fig, axes = plt.subplots()\n",
    "    axes.set_aspect(\"equal\", \"datalim\")\n",
    "    \n",
    "    for geom in new_shape.geoms:\n",
    "        xs, ys = geom.exterior.xy\n",
    "        axes.fill(xs, ys, alpha = 0.5, fc = 'r', ec = 'none')\n",
    "    \n",
    "    plt.scatter(*initial, label = \"Start\", c = 'blue', s = 100)\n",
    "    plt.scatter(*goal, label = \"Goal\", c = 'green', s = 100)\n",
    "    plt.title(title)\n",
    "    plt.legend()\n",
    "    plt.show()\n",
    "    \n",
    "def plot_path(polys, problem, path, title = \"Graph with Solution Path\"):\n",
    "    \n",
    "    new_shape = so.cascaded_union(polys)\n",
    "    fig, axes = plt.subplots()\n",
    "    axes.set_aspect(\"equal\", \"datalim\")\n",
    "    \n",
    "    for geom in new_shape.geoms:\n",
    "        xs, ys = geom.exterior.xy\n",
    "        axes.fill(xs, ys, alpha = 0.5, fc = 'r', ec = 'none')\n",
    "        \n",
    "    for i in range(len(path)):\n",
    "        if i != len(path) - 1:\n",
    "            axes.plot([problem.points[path[i]][0], problem.points[path[i+1]][0]],\n",
    "                      [problem.points[path[i]][1], problem.points[path[i+1]][1]])\n",
    "            \n",
    "        axes.scatter([problem.points[path[i]][0]], [problem.points[path[i]][1]], s = 50, c = 'red')\n",
    "    \n",
    "    plt.scatter(*initial, label = \"Start\", c = 'blue', s = 65)\n",
    "    plt.scatter(*goal, label = \"Goal\", c = 'green', s = 65)\n",
    "    plt.title(title)\n",
    "    plt.legend()\n",
    "    plt.show()"
   ]
  },
  {
   "cell_type": "code",
   "execution_count": 6,
   "metadata": {},
   "outputs": [
    {
     "data": {
      "image/png": "[encoded data removed]",
      "text/plain": [
       "<Figure size 720x576 with 1 Axes>"
      ]
     },
     "metadata": {
      "needs_background": "light"
     },
     "output_type": "display_data"
    }
   ],
   "source": [
    "plot_polygons(polys, \"State Space\")"
   ]
  },
  {
   "cell_type": "markdown",
   "metadata": {},
   "source": [
    "## Breadth First Search"
   ]
  },
  {
   "cell_type": "code",
   "execution_count": 7,
   "metadata": {
    "scrolled": true
   },
   "outputs": [
    {
     "name": "stdout",
     "output_type": "stream",
     "text": [
      "26.7 µs ± 1.57 µs per loop (mean ± std. dev. of 7 runs, 10000 loops each)\n"
     ]
    }
   ],
   "source": [
    "%%timeit\n",
    "\n",
    "problem.BFS()"
   ]
  },
  {
   "cell_type": "code",
   "execution_count": 8,
   "metadata": {},
   "outputs": [
    {
     "data": {
      "image/png": "[encoded data removed]",
      "text/plain": [
       "<Figure size 720x576 with 1 Axes>"
      ]
     },
     "metadata": {
      "needs_background": "light"
     },
     "output_type": "display_data"
    }
   ],
   "source": [
    "bfs_path, bfs_cost = problem.BFS()\n",
    "plot_path(polys, problem, bfs_path)"
   ]
  },
  {
   "cell_type": "code",
   "execution_count": 9,
   "metadata": {},
   "outputs": [
    {
     "name": "stdout",
     "output_type": "stream",
     "text": [
      "Path Found :  [(1, 1), (1, 7), (3, 8), (11, 7)]\n",
      "Path Cost of BFS: 16.3\n"
     ]
    }
   ],
   "source": [
    "traversed_points = []\n",
    "\n",
    "for index in bfs_path:\n",
    "    traversed_points.append(problem.points[index])\n",
    "\n",
    "print(\"Path Found : \", traversed_points)\n",
    "\n",
    "print(\"Path Cost of BFS:\", round(bfs_cost, 2))"
   ]
  },
  {
   "cell_type": "markdown",
   "metadata": {},
   "source": [
    "## Greedy Best-First Search"
   ]
  },
  {
   "cell_type": "code",
   "execution_count": 10,
   "metadata": {
    "scrolled": true
   },
   "outputs": [
    {
     "name": "stdout",
     "output_type": "stream",
     "text": [
      "37.8 µs ± 647 ns per loop (mean ± std. dev. of 7 runs, 10000 loops each)\n"
     ]
    }
   ],
   "source": [
    "%%timeit\n",
    "\n",
    "problem.GBFS()"
   ]
  },
  {
   "cell_type": "code",
   "execution_count": 11,
   "metadata": {},
   "outputs": [
    {
     "data": {
      "image/png": "[encoded data removed]",
      "text/plain": [
       "<Figure size 720x576 with 1 Axes>"
      ]
     },
     "metadata": {
      "needs_background": "light"
     },
     "output_type": "display_data"
    }
   ],
   "source": [
    "gbfs_path, gbfs_cost = problem.GBFS()\n",
    "plot_path(polys, problem, gbfs_path)"
   ]
  },
  {
   "cell_type": "code",
   "execution_count": 12,
   "metadata": {},
   "outputs": [
    {
     "name": "stdout",
     "output_type": "stream",
     "text": [
      "Path Found :  [(1, 1), (4, 0), (11, 2), (11, 7)]\n",
      "Path Cost of GBFS: 15.44\n"
     ]
    }
   ],
   "source": [
    "traversed_points = []\n",
    "\n",
    "for index in gbfs_path:\n",
    "    traversed_points.append(problem.points[index])\n",
    "\n",
    "print(\"Path Found : \", traversed_points)\n",
    "\n",
    "print(\"Path Cost of GBFS:\", round(gbfs_cost, 2))\n"
   ]
  },
  {
   "cell_type": "markdown",
   "metadata": {},
   "source": [
    "## Empirical Analysis"
   ]
  },
  {
   "cell_type": "code",
   "execution_count": 13,
   "metadata": {},
   "outputs": [],
   "source": [
    "def test_algorithm(function, iterations):\n",
    "    \"\"\"Runs the above state space for 'iterations' times and notes the computation times. \"\"\"\n",
    "    \n",
    "    runtimes = []\n",
    "    \n",
    "    for i in range(iterations):\n",
    "        start = time.time()\n",
    "        path, cost = function()\n",
    "        end = time.time()\n",
    "        \n",
    "        runtimes.append((end - start) * 1000)\n",
    "    \n",
    "    return runtimes"
   ]
  },
  {
   "cell_type": "code",
   "execution_count": 14,
   "metadata": {},
   "outputs": [
    {
     "name": "stdout",
     "output_type": "stream",
     "text": [
      "Wall time: 30 ms\n"
     ]
    }
   ],
   "source": [
    "%%time\n",
    "bfs_runtimes = test_algorithm(problem.BFS, 1000)"
   ]
  },
  {
   "cell_type": "code",
   "execution_count": 15,
   "metadata": {
    "scrolled": true
   },
   "outputs": [
    {
     "name": "stdout",
     "output_type": "stream",
     "text": [
      "Wall time: 40.9 ms\n"
     ]
    }
   ],
   "source": [
    "%%time\n",
    "gbfs_runtimes = test_algorithm(problem.GBFS, 1000)"
   ]
  },
  {
   "cell_type": "markdown",
   "metadata": {},
   "source": [
    "GBFS has a longer running time than BFS due to increase in computational intensity."
   ]
  }
 ],
 "metadata": {
  "kernelspec": {
   "display_name": "Python 3",
   "language": "python",
   "name": "python3"
  },
  "language_info": {
   "codemirror_mode": {
    "name": "ipython",
    "version": 3
   },
   "file_extension": ".py",
   "mimetype": "text/x-python",
   "name": "python",
   "nbconvert_exporter": "python",
   "pygments_lexer": "ipython3",
   "version": "3.8.5"
  }
 },
 "nbformat": 4,
 "nbformat_minor": 4
}
