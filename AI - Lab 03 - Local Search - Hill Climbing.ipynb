{
 "cells": [
  {
   "cell_type": "markdown",
   "metadata": {},
   "source": [
    "# Artificial Intelligence — Lab — Exercise 03 — Question 1"
   ]
  },
  {
   "cell_type": "markdown",
   "metadata": {},
   "source": [
    "#### 08 September 2020"
   ]
  },
  {
   "cell_type": "markdown",
   "metadata": {},
   "source": [
    "Centre for a Set of Points\n",
    "<ul>\n",
    "<li>Points A, B, C, D, E</li>\n",
    "<li>Find a centre point to these points.</li>\n",
    "<li>Total distance of centre from all the points is minimum.</li>\n",
    "<li>Implement and test a hill-climbing method to find the centre for the set of points.</li>\n",
    "</ul>"
   ]
  },
  {
   "cell_type": "code",
   "execution_count": 1,
   "metadata": {},
   "outputs": [],
   "source": [
    "import matplotlib.pyplot as plt"
   ]
  },
  {
   "cell_type": "code",
   "execution_count": 2,
   "metadata": {},
   "outputs": [],
   "source": [
    "class Point:\n",
    "    \"\"\"Class to work with a Point (x, y) and its related functions. \"\"\"\n",
    "    \n",
    "    def __init__(self, name, x, y):\n",
    "        \"\"\"Define a Coordinate (X, Y) with a name. \"\"\"\n",
    "        \n",
    "        self.name = name\n",
    "        self.x = x\n",
    "        self.y = y\n",
    "        \n",
    "    def __str__(self):\n",
    "        \"\"\"Returns the Point's Name and Coordinates in a formatted manner. \"\"\"\n",
    "        \n",
    "        return self.name + \"(\" + str(self.x) + \", \" + str(self.y) + \")\"\n",
    "        \n",
    "    def manhattan_distance(self, p):\n",
    "        \"\"\"Find the Manhattan distance between the point and another point P. \"\"\"\n",
    "        \n",
    "        md = abs(self.x - p.x) + abs(self.y - p.y)\n",
    "        return md\n",
    "    "
   ]
  },
  {
   "cell_type": "code",
   "execution_count": 3,
   "metadata": {},
   "outputs": [],
   "source": [
    "class Hill_Climb:\n",
    "    \"\"\"Class to work with the Hill-Climbing algorithm and its related functionalities.\"\"\"\n",
    "    \n",
    "    def __init__(self, points):\n",
    "        \"\"\"Define the points for hill climbing algorithm. \"\"\"\n",
    "        \n",
    "        self.points = points\n",
    "        self.centre = Point('O', 0, 0)\n",
    "        #Approximate centroid point, can also use this as the initial centre.\n",
    "        #self.centre.x = sum(point.x for point in points)//len(points)\n",
    "        #self.centre.y = sum(point.y for point in points)//len(points)\n",
    "        \n",
    "\n",
    "    def manhattan_sum(self, centre):\n",
    "        \"\"\"Find the Manhattan distance sum between a given point and all the other points. \"\"\"\n",
    "        \n",
    "        ms = sum(centre.manhattan_distance(point) for point in self.points)\n",
    "        return ms\n",
    "\n",
    "    def find_centre_point(self):\n",
    "        \"\"\"Finds the most appropriate centre point for the given set of points. \"\"\"\n",
    "        \n",
    "        current_ms = self.manhattan_sum(self.centre)\n",
    "        t = Point('O', 0, 0)\n",
    "        \n",
    "        print(\"Initial Centre\\t\\t:\\t\", self.centre)\n",
    "        print(\"Initial Manhattan Sum\\t:\\t\", current_ms)\n",
    "        \n",
    "        self.centres = [Point('O', self.centre.x, self.centre.y)]\n",
    "        \n",
    "        while True:\n",
    "            new_ms = self.manhattan_sum(self.centre)\n",
    "            \n",
    "            u = Point('U', self.centre.x, self.centre.y + 1)\n",
    "            d = Point('D', self.centre.x, self.centre.y - 1)\n",
    "            l = Point('L', self.centre.x - 1, self.centre.y)\n",
    "            r = Point('R', self.centre.x + 1, self.centre.y)\n",
    "            \n",
    "            neighbors = [u, l, d, r]\n",
    "            \n",
    "            for neighbor in neighbors:\n",
    "                if self.manhattan_sum(neighbor) < new_ms:\n",
    "                    new_ms = self.manhattan_sum(neighbor)\n",
    "                    t.x = neighbor.x\n",
    "                    t.y = neighbor.y\n",
    "            \n",
    "            if current_ms > new_ms:\n",
    "                self.centres.append(Point('O', t.x, t.y))\n",
    "                self.centre.x = t.x\n",
    "                self.centre.y = t.y\n",
    "                current_ms = new_ms\n",
    "\n",
    "            else:\n",
    "                break\n",
    "            \n",
    "        \n",
    "        print(\"\\nFinal Centre\\t\\t:\\t\", self.centre)\n",
    "        print(\"Final Manhattan Sum\\t:\\t\", current_ms)\n",
    "\n",
    "        return self.centres\n",
    "    \n",
    "    def plot_graph(self):\n",
    "        \"\"\"Plots the graph of the given points, the intermediate centres and the final centre. \"\"\"\n",
    "\n",
    "        fc = self.centres[-1]\n",
    "        \n",
    "        plt.plot([p.x for p in self.centres], [p.y for p in self.centres], color = \"green\", label = \"Intermediate Centres\")\n",
    "        plt.scatter([p.x for p in points], [p.y for p in points], color = \"blue\", label = \"Given Points\")\n",
    "        plt.scatter([fc.x], [fc.y], color = \"red\", label = \"Final Centre\")\n",
    "        plt.title(\"Plot of the Points & Centres\")\n",
    "        plt.legend()\n",
    "        \n",
    "        for p in self.points:\n",
    "            plt.annotate(p.name, (p.x, p.y), ha = \"center\", xytext = (p.x + 0.25 , p.y))\n",
    "            \n",
    "        plt.annotate(fc.name, (fc.x, fc.y), ha = \"center\", xytext = (fc.x + 0.25 , fc.y))    "
   ]
  },
  {
   "cell_type": "code",
   "execution_count": 4,
   "metadata": {},
   "outputs": [
    {
     "name": "stdout",
     "output_type": "stream",
     "text": [
      "\n",
      "\t\tHill Climbing Algorithm\n",
      "\n",
      "\n",
      "Given Points\t\t:\t A(0, 6) B(1, 2) C(3, 1) D(7, 0) E(9, 3) \n",
      "\n",
      "Initial Centre\t\t:\t O(0, 0)\n",
      "Initial Manhattan Sum\t:\t 32\n",
      "\n",
      "Final Centre\t\t:\t O(3, 2)\n",
      "Final Manhattan Sum\t:\t 23\n"
     ]
    },
    {
     "data": {
      "image/png": "[encoded data removed]",
      "text/plain": [
       "<Figure size 432x288 with 1 Axes>"
      ]
     },
     "metadata": {
      "needs_background": "light"
     },
     "output_type": "display_data"
    }
   ],
   "source": [
    "if __name__ == \"__main__\":\n",
    "    \"\"\"Driver program to execute Hill Climbing algorithm for centre points.\"\"\"\n",
    "    \n",
    "    print(\"\\n\\t\\tHill Climbing Algorithm\\n\")\n",
    "    \n",
    "    a = Point('A', 0, 6)\n",
    "    b = Point('B', 1, 2)\n",
    "    c = Point('C', 3, 1)\n",
    "    d = Point('D', 7, 0)\n",
    "    e = Point('E', 9, 3)\n",
    "\n",
    "    points = [a, b, c, d, e]\n",
    "    \n",
    "    print(\"\\nGiven Points\\t\\t:\\t\", end = \" \")\n",
    "    \n",
    "    for p in points:\n",
    "        print(p, end = \" \")\n",
    "        \n",
    "    print(\"\\n\")\n",
    "\n",
    "    h = Hill_Climb(points)\n",
    "    h.find_centre_point()\n",
    "    h.plot_graph()"
   ]
  }
 ],
 "metadata": {
  "kernelspec": {
   "display_name": "Python 3",
   "language": "python",
   "name": "python3"
  },
  "language_info": {
   "codemirror_mode": {
    "name": "ipython",
    "version": 3
   },
   "file_extension": ".py",
   "mimetype": "text/x-python",
   "name": "python",
   "nbconvert_exporter": "python",
   "pygments_lexer": "ipython3",
   "version": "3.8.3"
  }
 },
 "nbformat": 4,
 "nbformat_minor": 2
}
