{
 "cells": [
  {
   "cell_type": "markdown",
   "metadata": {},
   "source": [
    "# Artificial Intelligence — Lab — Exercise 05"
   ]
  },
  {
   "cell_type": "markdown",
   "metadata": {},
   "source": [
    "#### 6 October 2020"
   ]
  },
  {
   "cell_type": "markdown",
   "metadata": {},
   "source": [
    "## Davis–Putnam–Logemann–Loveland (DPLL) algorithm"
   ]
  },
  {
   "cell_type": "markdown",
   "metadata": {},
   "source": [
    "Implement David-Putnam algorithm for checking the satisfiability of a sentence represented in propositional logic.\n",
    "<hr>"
   ]
  },
  {
   "cell_type": "markdown",
   "metadata": {},
   "source": [
    "The Davis–Putnam–Logemann–Loveland (DPLL) algorithm is a complete, \n",
    "backtracking-based search algorithm for deciding the satisfiability of propositional logic formulae \n",
    "in conjunctive normal form, i.e. for solving the CNF-SAT problem.\n",
    "<hr>"
   ]
  },
  {
   "cell_type": "markdown",
   "metadata": {},
   "source": [
    "Theory is adapted from Artificial Intelligence: A Modern Approach by Peter Norvig & Stuart J. Russell"
   ]
  },
  {
   "cell_type": "markdown",
   "metadata": {},
   "source": [
    "<hr>\n",
    "This algorithm is very similar to Backtracking-Search. It recursively enumerates possible models in a depth-first fashion with the following improvements over algorithms like Truth Table Entailment.\n",
    "\n",
    "1. Early termination:\n",
    "In certain cases, the algorithm can detect the truth value of a statement using just a partially completed model. For example, $(P\\lor Q)\\land(P\\lor R)$ is true if P is true, regardless of other variables. This reduces the search space significantly.\n",
    "<br><br>\n",
    "2. Pure symbol heuristic:\n",
    "A symbol that has the same sign (positive or negative) in all clauses is called a pure symbol. It isn't difficult to see that any satisfiable model will have the pure symbols assigned such that its parent clause becomes true. For example, $(P\\lor\\neg Q)\\land(\\neg Q\\lor\\neg R)\\land(R\\lor P)$ has P and Q as pure symbols and for the sentence to be true, P has to be true and Q has to be false. The pure symbol heuristic thus simplifies the problem a bit.\n",
    "<br><br>\n",
    "3. Unit clause heuristic:\n",
    "In the context of DPLL, clauses with just one literal and clauses with all but one false literals are called unit clauses. If a clause is a unit clause, it can only be satisfied by assigning the necessary value to make the last literal true. We have no other choice.\n",
    "<br><br>\n",
    "Assigning one unit clause can create another unit clause. For example, when P is false, $(P\\lor Q)$ becomes a unit clause, causing true to be assigned to Q. A series of forced assignments derived from previous unit clauses is called unit propagation. In this way, this heuristic simplifies the problem further.\n",
    "<hr>\n"
   ]
  },
  {
   "cell_type": "code",
   "execution_count": 1,
   "metadata": {},
   "outputs": [],
   "source": [
    "class DPLL:\n",
    "    true_literals = set()\n",
    "    false_literals = set()\n",
    "    props, branches = 0, 0\n",
    "    cnf = []\n",
    "    literals = []\n",
    "    \n",
    "    def __init__(self, formula):\n",
    "        \"\"\"To initialize the DPLL Solver with the required CNF Form & Literals. \"\"\"\n",
    "        \n",
    "        self.literals = [literal for literal in list(set(formula)) if literal.isalpha()]\n",
    "        self.cnf = formula.split(\", \")\n",
    "        print(\"Initial Formula:\\t\", self)\n",
    "        \n",
    "        \n",
    "    def __str__(self):\n",
    "        \"\"\"To convert the Pythonic-list used for CNF notation into a readable formula in CNF. \"\"\"\n",
    "        \n",
    "        cnf_str = \"\"\n",
    "        \n",
    "        for clause in self.cnf:  #represent each claue in CNF\n",
    "            if len(clause) > 0:\n",
    "                cnf_str += '(' + clause.replace(' ', ' ∨ ') + ') ∧ '\n",
    "    \n",
    "        if cnf_str == \"\":       #formula is empty\n",
    "            cnf_str = \"()\"\n",
    "            \n",
    "        if cnf_str[-2] == \"∧\":  #removing the final '∧' added which is un-wanted.\n",
    "            cnf_str = cnf_str[:-2:] \n",
    "    \n",
    "        return cnf_str\n",
    "    \n",
    "    \n",
    "    def DPLL_Algorithm(self):\n",
    "        \"\"\"Perform the David-Putnam-Logemann-Loveland algorithm on the given formula. \"\"\"\n",
    "        \n",
    "        new_true_literals  =  []\n",
    "        new_false_literals =  []\n",
    "        \n",
    "        print(\"\\nCurrent Formula:\\t\", self)\n",
    "        \n",
    "        self.true_literals = set(self.true_literals)\n",
    "        self.false_literals = set(self.false_literals)\n",
    "        \n",
    "        self.branches += 1  #Since this is a new branch\n",
    "        \n",
    "        cnf = list(set(self.cnf))\n",
    "        unit_clauses = [clause for clause in cnf if len(clause) < 3]   #clause of len < 3 is a unit clause\n",
    "        unit_clauses = list(set(unit_clauses))\n",
    "        \n",
    "        if unit_clauses:  #Assign truth values to unit clauses for satisfying the given formula\n",
    "            for unit in unit_clauses:\n",
    "                self.props += 1\n",
    "                \n",
    "                if '¬' in unit:  #False unit clause\n",
    "                    self.false_literals.add(unit[-1])\n",
    "                    new_false_literals.append(unit[-1])\n",
    "                    i = 0\n",
    "                    \n",
    "                    while True:\n",
    "                        if unit in cnf[i]:  #Remove the unit clause from the formula\n",
    "                            cnf.remove(cnf[i])\n",
    "                            i -= 1\n",
    "                        \n",
    "                        elif unit[-1] in cnf[i]:  #If a ¬(unit clause) exists in the formula\n",
    "                            cnf[i] = cnf[i].replace(unit[-1], '').strip()\n",
    "                    \n",
    "                        i += 1\n",
    "                    \n",
    "                        if i >= len(cnf):\n",
    "                            break\n",
    "        \n",
    "                else:  #True unit clause\n",
    "                    self.true_literals.add(unit)\n",
    "                    new_true_literals.append(unit)\n",
    "                    i = 0\n",
    "                \n",
    "                    while True:\n",
    "                        if '¬' + unit in cnf[i]:  #If a ¬(unit clause) exists in the formula\n",
    "                            cnf[i] = cnf[i].replace('¬' + unit, '').strip()\n",
    "                        \n",
    "                            if '  ' in cnf[i]:  #Empty clause\n",
    "                                cnf[i] = cnf[i].replace('  ', ' ')\n",
    "                        \n",
    "                        elif unit in cnf[i]:  #Remove the unit clause from the formula\n",
    "                            cnf.remove(cnf[i])\n",
    "                            i -= 1\n",
    "                            \n",
    "                        i += 1\n",
    "                        \n",
    "                        if i >= len(cnf):\n",
    "                            break\n",
    "        \n",
    "        self.cnf = cnf\n",
    "        \n",
    "        print(\"Current Unit Clauses:\\t\", unit_clauses)\n",
    "        print(\"CNF after Propagation:\\t\", self)\n",
    "        \n",
    "        if len(self.cnf) == 0:  #Formula becomes an empty clause\n",
    "            return True\n",
    "        \n",
    "        if sum(len(clause) == 0 for clause in cnf):  #If there are empty parantheses, indicating contradiction\n",
    "            \n",
    "            for literal in new_true_literals:   #clear every newly set true literal\n",
    "                self.true_literals.remove(literal)\n",
    "            \n",
    "            for literal in new_false_literals:  #clear every newly set false literal\n",
    "                self.false_literals.remove(literal)\n",
    "                \n",
    "            print(\"\\nNull clause found. Backtracking...\")\n",
    "            \n",
    "            return False  #backtrack, since we cannot simplify anymore, and it is unsatisfiable in the current branch\n",
    "        \n",
    "        self.literals = [literal for literal in list(set(''.join(self.cnf))) if literal.isalpha()]\n",
    "        #form the literals again from the updated formula\n",
    "        \n",
    "        first_literal = self.literals[0]  #choose the first literal to set as True/False to find satisfying assignments\n",
    "        \n",
    "        self.cnf = cnf + [first_literal]  #Try with first literal set to True\n",
    "        print(\"\\nTrying with {0} as True...\".format(first_literal))\n",
    "        \n",
    "        if self.DPLL_Algorithm():  #recursively work on the new formula\n",
    "            return True\n",
    "        \n",
    "        self.cnf = cnf + ['¬' + first_literal]  #Try with first literal set to False (i.e ¬(first literal) is True)\n",
    "        print(\"\\nTrying with ¬{0} as True...\".format(first_literal))\n",
    "        \n",
    "        if self.DPLL_Algorithm():  #recursively work on the new formula\n",
    "            return True\n",
    "        \n",
    "        \n",
    "        else:  #no satisfying assignments were found to the literals of the formula\n",
    "            self.cnf = cnf\n",
    "            \n",
    "            for literal in new_true_literals:   #remove all the assignments\n",
    "                self.true_literals.remove(literal)\n",
    "            \n",
    "            for literal in new_false_literals:  #remove all the assignments\n",
    "                self.false_literals.remove(literal)\n",
    "            \n",
    "            return False  #the formula is unsatisfiable.\n",
    "        \n",
    "    \n",
    "    def print_result(self, satisfiability):\n",
    "        \"\"\"Print the result of the DPLL Algorithm on the formula along with its literals' assignments and statistics. \"\"\"\n",
    "        \n",
    "        if satisfiability == True:\n",
    "            print(\"\\nThe given CNF statement is satisfiable.\")\n",
    "            print(\"\\nSolution: \")\n",
    "            \n",
    "            for literal in self.true_literals:\n",
    "                print(\"\\t\"+literal, \"= True\")\n",
    "                \n",
    "            for literal in self.false_literals:\n",
    "                print(\"\\t\"+literal, \"= False\")\n",
    "            \n",
    "        else:\n",
    "            print(\"\\nThe given CNF statement was unsatisfiable.\")\n",
    "            \n",
    "        print(\"\\nNo. of branches:\\t\\t\", self.branches)\n",
    "        print(\"\\nNo. of unit propagations:\\t\", self.props)\n"
   ]
  },
  {
   "cell_type": "markdown",
   "metadata": {},
   "source": [
    "<hr>\n",
    "Running DPLL Algorithm for $(X \\lor Y \\lor Z)\\land(X \\lor\\neg Y \\lor Z)\\land(\\neg X \\lor Y \\lor\\neg Z)\\land(\\neg Z)$\n",
    "<hr>"
   ]
  },
  {
   "cell_type": "code",
   "execution_count": 2,
   "metadata": {},
   "outputs": [
    {
     "name": "stdout",
     "output_type": "stream",
     "text": [
      "Initial Formula:\t (X ∨ Y ∨ Z) ∧ (X ∨ ¬Y ∨ Z) ∧ (¬X ∨ Y ∨ ¬Z) ∧ (¬Z) \n",
      "\n",
      "Current Formula:\t (X ∨ Y ∨ Z) ∧ (X ∨ ¬Y ∨ Z) ∧ (¬X ∨ Y ∨ ¬Z) ∧ (¬Z) \n",
      "Current Unit Clauses:\t ['¬Z']\n",
      "CNF after Propagation:\t (X ∨ Y) ∧ (X ∨ ¬Y) \n",
      "\n",
      "Trying with Y as True...\n",
      "\n",
      "Current Formula:\t (X ∨ Y) ∧ (X ∨ ¬Y) ∧ (Y) \n",
      "Current Unit Clauses:\t ['Y']\n",
      "CNF after Propagation:\t (X) \n",
      "\n",
      "Trying with X as True...\n",
      "\n",
      "Current Formula:\t (X) ∧ (X) \n",
      "Current Unit Clauses:\t ['X']\n",
      "CNF after Propagation:\t ()\n",
      "\n",
      "The given CNF statement is satisfiable.\n",
      "\n",
      "Solution: \n",
      "\tY = True\n",
      "\tX = True\n",
      "\tZ = False\n",
      "\n",
      "No. of branches:\t\t 3\n",
      "\n",
      "No. of unit propagations:\t 3\n"
     ]
    }
   ],
   "source": [
    "dpll_solver = DPLL(\"X Y Z, X ¬Y Z, ¬X Y ¬Z, ¬Z\")\n",
    "satisfiability = dpll_solver.DPLL_Algorithm()\n",
    "dpll_solver.print_result(satisfiability)"
   ]
  },
  {
   "cell_type": "markdown",
   "metadata": {},
   "source": [
    "<hr>\n",
    "Running DPLL Algorithm for $(\\neg P \\lor Q)\\land(\\neg Q \\lor\\neg R)\\land(\\neg S \\lor P)\\land(P \\lor Q \\lor\\neg R)$\n",
    "<hr>"
   ]
  },
  {
   "cell_type": "code",
   "execution_count": 3,
   "metadata": {
    "scrolled": true
   },
   "outputs": [
    {
     "name": "stdout",
     "output_type": "stream",
     "text": [
      "Initial Formula:\t (¬P ∨ Q) ∧ (¬Q ∨ ¬R) ∧ (R ∨ ¬S) ∧ (¬S ∨ P) ∧ (P ∨ Q ∨ ¬R) \n",
      "\n",
      "Current Formula:\t (¬P ∨ Q) ∧ (¬Q ∨ ¬R) ∧ (R ∨ ¬S) ∧ (¬S ∨ P) ∧ (P ∨ Q ∨ ¬R) \n",
      "Current Unit Clauses:\t []\n",
      "CNF after Propagation:\t (¬S ∨ P) ∧ (¬Q ∨ ¬R) ∧ (P ∨ Q ∨ ¬R) ∧ (¬P ∨ Q) ∧ (R ∨ ¬S) \n",
      "\n",
      "Trying with R as True...\n",
      "\n",
      "Current Formula:\t (¬S ∨ P) ∧ (¬Q ∨ ¬R) ∧ (P ∨ Q ∨ ¬R) ∧ (¬P ∨ Q) ∧ (R ∨ ¬S) ∧ (R) \n",
      "Current Unit Clauses:\t ['R']\n",
      "CNF after Propagation:\t (¬S ∨ P) ∧ (¬Q) ∧ (P ∨ Q) ∧ (¬P ∨ Q) \n",
      "\n",
      "Trying with Q as True...\n",
      "\n",
      "Current Formula:\t (¬S ∨ P) ∧ (¬Q) ∧ (P ∨ Q) ∧ (¬P ∨ Q) ∧ (Q) \n",
      "Current Unit Clauses:\t ['¬Q', 'Q']\n",
      "CNF after Propagation:\t (¬S ∨ P) ∧ (¬P) ∧ (P) \n",
      "\n",
      "Null clause found. Backtracking...\n",
      "\n",
      "Trying with ¬Q as True...\n",
      "\n",
      "Current Formula:\t (¬S ∨ P) ∧ (¬Q) ∧ (P ∨ Q) ∧ (¬P ∨ Q) ∧ (¬Q) \n",
      "Current Unit Clauses:\t ['¬Q']\n",
      "CNF after Propagation:\t (P) ∧ (¬S ∨ P) ∧ (¬P) \n",
      "\n",
      "Trying with S as True...\n",
      "\n",
      "Current Formula:\t (P) ∧ (¬S ∨ P) ∧ (¬P) ∧ (S) \n",
      "Current Unit Clauses:\t ['¬P', 'S', 'P']\n",
      "CNF after Propagation:\t ()\n",
      "\n",
      "Null clause found. Backtracking...\n",
      "\n",
      "Trying with ¬S as True...\n",
      "\n",
      "Current Formula:\t (P) ∧ (¬S ∨ P) ∧ (¬P) ∧ (¬S) \n",
      "Current Unit Clauses:\t ['¬P', '¬S', 'P']\n",
      "CNF after Propagation:\t ()\n",
      "\n",
      "Null clause found. Backtracking...\n",
      "\n",
      "Trying with ¬R as True...\n",
      "\n",
      "Current Formula:\t (¬S ∨ P) ∧ (¬Q ∨ ¬R) ∧ (P ∨ Q ∨ ¬R) ∧ (¬P ∨ Q) ∧ (R ∨ ¬S) ∧ (¬R) \n",
      "Current Unit Clauses:\t ['¬R']\n",
      "CNF after Propagation:\t (¬S ∨ P) ∧ (¬P ∨ Q) ∧ (¬S) \n",
      "\n",
      "Trying with Q as True...\n",
      "\n",
      "Current Formula:\t (¬S ∨ P) ∧ (¬P ∨ Q) ∧ (¬S) ∧ (Q) \n",
      "Current Unit Clauses:\t ['¬S', 'Q']\n",
      "CNF after Propagation:\t ()\n",
      "\n",
      "The given CNF statement is satisfiable.\n",
      "\n",
      "Solution: \n",
      "\tQ = True\n",
      "\tR = False\n",
      "\tS = False\n",
      "\n",
      "No. of branches:\t\t 8\n",
      "\n",
      "No. of unit propagations:\t 13\n"
     ]
    }
   ],
   "source": [
    "dpll_solver = DPLL(\"¬P Q, ¬Q ¬R, R ¬S, ¬S P, P Q ¬R\")\n",
    "satisfiability = dpll_solver.DPLL_Algorithm()\n",
    "dpll_solver.print_result(satisfiability)"
   ]
  },
  {
   "cell_type": "markdown",
   "metadata": {},
   "source": [
    "<hr>\n",
    "Custom formula : Separate clauses in formula by commas \", \" and literals inside a clause with spaces. Use \"¬\" for negation of a literal.\n",
    "<hr>"
   ]
  },
  {
   "cell_type": "code",
   "execution_count": 4,
   "metadata": {},
   "outputs": [
    {
     "name": "stdout",
     "output_type": "stream",
     "text": [
      "Enter a formula in CNF: P, ¬P\n",
      "Initial Formula:\t (P) ∧ (¬P) \n",
      "\n",
      "Current Formula:\t (P) ∧ (¬P) \n",
      "Current Unit Clauses:\t ['¬P', 'P']\n",
      "CNF after Propagation:\t ()\n",
      "\n",
      "Null clause found. Backtracking...\n",
      "\n",
      "The given CNF statement was unsatisfiable.\n",
      "\n",
      "No. of branches:\t\t 1\n",
      "\n",
      "No. of unit propagations:\t 2\n"
     ]
    }
   ],
   "source": [
    "dpll_solver = DPLL(input(\"Enter a formula in CNF: \"))\n",
    "satisfiability = dpll_solver.DPLL_Algorithm()\n",
    "dpll_solver.print_result(satisfiability)"
   ]
  }
 ],
 "metadata": {
  "kernelspec": {
   "display_name": "Python 3",
   "language": "python",
   "name": "python3"
  },
  "language_info": {
   "codemirror_mode": {
    "name": "ipython",
    "version": 3
   },
   "file_extension": ".py",
   "mimetype": "text/x-python",
   "name": "python",
   "nbconvert_exporter": "python",
   "pygments_lexer": "ipython3",
   "version": "3.8.5"
  }
 },
 "nbformat": 4,
 "nbformat_minor": 4
}
